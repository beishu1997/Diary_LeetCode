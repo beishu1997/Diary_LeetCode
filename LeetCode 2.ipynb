{
 "cells": [
  {
   "cell_type": "markdown",
   "metadata": {},
   "source": [
    "1. 先按照定义吧所有的数字弄出来\n",
    "2. 弄一个函数，相加后，分别弄出来"
   ]
  },
  {
   "cell_type": "code",
   "execution_count": null,
   "metadata": {},
   "outputs": [],
   "source": [
    "# Definition for singly-linked list.\n",
    "# class ListNode:\n",
    "#     def __init__(self, x):\n",
    "#         self.val = x\n",
    "#         self.next = None\n",
    "\n",
    "class Solution:\n",
    "    def addTwoNumbers(self, l1: ListNode, l2: ListNode) -> ListNode:\n",
    "        num1=0\n",
    "        num2=0\n",
    "        z=0\n",
    "        while(True):\n",
    "            num1+=l1.val*(10**z)\n",
    "            l1=l1.next\n",
    "            z+=1\n",
    "            if l1 is None:\n",
    "                break\n",
    "        z=0\n",
    "        while(True):\n",
    "            num2+=l2.val*(10**z)\n",
    "            l2=l2.next\n",
    "            z+=1\n",
    "            if l2 is None:\n",
    "                break\n",
    "        total=int(num1+num2)\n",
    "        def input_(num):\n",
    "            if num<10:\n",
    "                return ListNode(num)\n",
    "            else:\n",
    "                a=ListNode(num%10)\n",
    "                a.next=input_(num//10)\n",
    "                return a\n",
    "        # home=ListNode(0)\n",
    "        return input_(total)\n",
    "        \n"
   ]
  }
 ],
 "metadata": {
  "kernelspec": {
   "display_name": "Python 3",
   "language": "python",
   "name": "python3"
  },
  "language_info": {
   "codemirror_mode": {
    "name": "ipython",
    "version": 3
   },
   "file_extension": ".py",
   "mimetype": "text/x-python",
   "name": "python",
   "nbconvert_exporter": "python",
   "pygments_lexer": "ipython3",
   "version": "3.7.3"
  },
  "toc": {
   "base_numbering": 1,
   "nav_menu": {},
   "number_sections": true,
   "sideBar": true,
   "skip_h1_title": false,
   "title_cell": "Table of Contents",
   "title_sidebar": "Contents",
   "toc_cell": false,
   "toc_position": {},
   "toc_section_display": true,
   "toc_window_display": false
  }
 },
 "nbformat": 4,
 "nbformat_minor": 2
}
