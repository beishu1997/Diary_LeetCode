{
 "cells": [
  {
   "cell_type": "markdown",
   "metadata": {},
   "source": [
    "tips 1:\n",
    "1. sorted( var, reverse=True) -> 从大到小\n",
    "2. sorted( var) -> 从小到大\n",
    "3. num_store.sort(key=lambda x: x[0])\n",
    "4. for list: \n",
    "    记住了： for i in range(len(list_)):\n",
    "            for j in range(i,len(list_)):\n",
    "                list_[i,j+1] -> 这个才是两个之间的东西，不要忘记了啊！"
   ]
  },
  {
   "cell_type": "code",
   "execution_count": 185,
   "metadata": {},
   "outputs": [
    {
     "data": {
      "text/plain": [
       "[110, 9, 8, 5, 5, 4, 4, 2, 2]"
      ]
     },
     "execution_count": 185,
     "metadata": {},
     "output_type": "execute_result"
    }
   ],
   "source": [
    "a=[2,4,5,8,9,110,2,4,5]\n",
    "a.sort(reverse=True)\n",
    "a"
   ]
  },
  {
   "cell_type": "code",
   "execution_count": 45,
   "metadata": {},
   "outputs": [],
   "source": [
    "mapping=[3,4,5,6,2,7,9,8,0,1]and\n",
    "nums=[\"990\",\"332\",\"32\",\"33332\"]"
   ]
  },
  {
   "cell_type": "code",
   "execution_count": 46,
   "metadata": {},
   "outputs": [
    {
     "data": {
      "text/plain": [
       "[3, 2]"
      ]
     },
     "execution_count": 46,
     "metadata": {},
     "output_type": "execute_result"
    }
   ],
   "source": [
    "num_1=[int(i) for i in nums[2]]\n",
    "num_1"
   ]
  },
  {
   "cell_type": "code",
   "execution_count": 47,
   "metadata": {},
   "outputs": [
    {
     "data": {
      "text/plain": [
       "0"
      ]
     },
     "execution_count": 47,
     "metadata": {},
     "output_type": "execute_result"
    }
   ],
   "source": [
    "mapping.index(3)"
   ]
  },
  {
   "cell_type": "code",
   "execution_count": 48,
   "metadata": {},
   "outputs": [
    {
     "data": {
      "text/plain": [
       "[0, 4]"
      ]
     },
     "execution_count": 48,
     "metadata": {},
     "output_type": "execute_result"
    }
   ],
   "source": [
    "num_1=[mapping.index(i) for i in num_1]\n",
    "num_1"
   ]
  },
  {
   "cell_type": "code",
   "execution_count": 40,
   "metadata": {},
   "outputs": [],
   "source": [
    "num_1_v=\"\".join([str(i) for i in num_1])"
   ]
  },
  {
   "cell_type": "code",
   "execution_count": 41,
   "metadata": {},
   "outputs": [
    {
     "data": {
      "text/plain": [
       "4"
      ]
     },
     "execution_count": 41,
     "metadata": {},
     "output_type": "execute_result"
    }
   ],
   "source": [
    "int(num_1_v)"
   ]
  },
  {
   "cell_type": "code",
   "execution_count": 42,
   "metadata": {},
   "outputs": [
    {
     "data": {
      "text/plain": [
       "[9, 8, 7, 6, 5, 4, 3, 2, 1, 0]"
      ]
     },
     "execution_count": 42,
     "metadata": {},
     "output_type": "execute_result"
    }
   ],
   "source": [
    "sorted(mapping,reverse=True)"
   ]
  },
  {
   "cell_type": "code",
   "execution_count": 51,
   "metadata": {},
   "outputs": [],
   "source": [
    "def change(mapping,nums):\n",
    "    num_store=[]\n",
    "    var_store=[]\n",
    "    for i in nums:\n",
    "        temp=[mapping.index(int(j)) for j in i]\n",
    "        temp=[str(j) for j in temp]\n",
    "        num_store.append( (int(\"\".join(temp)),i) )\n",
    "    \n",
    "    num_store.sort(key=lambda x: x[0])\n",
    "    return [i[1] for i in num_store]\n",
    "    "
   ]
  },
  {
   "cell_type": "code",
   "execution_count": 52,
   "metadata": {},
   "outputs": [
    {
     "data": {
      "text/plain": [
       "['332', '32', '33332', '990']"
      ]
     },
     "execution_count": 52,
     "metadata": {},
     "output_type": "execute_result"
    }
   ],
   "source": [
    "change(mapping,nums)"
   ]
  },
  {
   "cell_type": "code",
   "execution_count": 62,
   "metadata": {},
   "outputs": [],
   "source": [
    "def rotate(string,direction,amount):\n",
    "\n",
    "    def moving(string,direction,num):\n",
    "        act_num=num%len(string)\n",
    "        if act_num==0:\n",
    "            return string\n",
    "        if direction==0:\n",
    "            move_part=string[:act_num]\n",
    "            new_string=string[act_num:]+move_part\n",
    "            return new_string\n",
    "        if direction==1:\n",
    "            move_part=string[act_num:]\n",
    "            new_string=move_part+string[:act_num]\n",
    "            return new_string\n",
    "    new_string=\"\".join([i for i in string])\n",
    "    for i in range(len(direction)):\n",
    "        new_string=moving(new_string,direction[i],amount[i])\n",
    "    return new_string\n"
   ]
  },
  {
   "cell_type": "code",
   "execution_count": 64,
   "metadata": {},
   "outputs": [
    {
     "data": {
      "text/plain": [
       "'dreabc'"
      ]
     },
     "execution_count": 64,
     "metadata": {},
     "output_type": "execute_result"
    }
   ],
   "source": [
    "string=\"abcdre\"\n",
    "direction=[1]\n",
    "amount=[3]\n",
    "rotate(string,direction,amount)"
   ]
  },
  {
   "cell_type": "code",
   "execution_count": null,
   "metadata": {},
   "outputs": [],
   "source": []
  },
  {
   "cell_type": "code",
   "execution_count": 81,
   "metadata": {},
   "outputs": [],
   "source": [
    "grid=[[7,7,3,8,1],[13,5,4,5,2],[9,2,12,3,9],[6,12,1,11,41],[44,5,67,88,9]]\n"
   ]
  },
  {
   "cell_type": "code",
   "execution_count": 66,
   "metadata": {},
   "outputs": [],
   "source": [
    "a=grid[::-1]"
   ]
  },
  {
   "cell_type": "code",
   "execution_count": 71,
   "metadata": {},
   "outputs": [],
   "source": [
    "def get_spiral(grid):\n",
    "    \n",
    "    list_=[i for i in grid[0]]\n",
    "    grid=grid[1:]\n",
    "    \n",
    "    try:\n",
    "        for i in grid:\n",
    "            list_.append(i[-1])\n",
    "        grid=[i[:-1] for i in grid]\n",
    "    except:\n",
    "        return list_,grid\n",
    "    try:\n",
    "        list_.extend(grid[-1][::-1])\n",
    "        grid=grid[:-1]\n",
    "    except:\n",
    "        return list_,grid\n",
    "        \n",
    "    try:\n",
    "        temp=[i[0] for i in grid]\n",
    "        list_.extend(temp[::-1])\n",
    "        grid=[i[1:] for i in grid]\n",
    "    except:\n",
    "        return list_,grid\n",
    "\n",
    "    return list_,grid\n",
    "\n",
    "    "
   ]
  },
  {
   "cell_type": "code",
   "execution_count": 73,
   "metadata": {},
   "outputs": [
    {
     "data": {
      "text/plain": [
       "([5, 4, 5, 3, 12, 2], [])"
      ]
     },
     "execution_count": 73,
     "metadata": {},
     "output_type": "execute_result"
    }
   ],
   "source": [
    "get_spiral(get_spiral(grid)[1])"
   ]
  },
  {
   "cell_type": "code",
   "execution_count": 77,
   "metadata": {},
   "outputs": [],
   "source": [
    "def get_prime(n):\n",
    "    if n==1:\n",
    "        return -1\n",
    "    if n==2:\n",
    "        return 2\n",
    "    if n%2==0:\n",
    "        return -1\n",
    "    mid=n**0.5\n",
    "    mid=int(mid)+2\n",
    "    for i in range(3,mid):\n",
    "        if n%i==0:\n",
    "            return -1\n",
    "    return n\n",
    "        "
   ]
  },
  {
   "cell_type": "code",
   "execution_count": 79,
   "metadata": {},
   "outputs": [],
   "source": [
    "def return_spiral(grid):\n",
    "    list_=[]\n",
    "    grid_new=[i for i in grid]\n",
    "    while(True):\n",
    "        a,grid_new=get_spiral(grid_new)\n",
    "        list_.extend(a)\n",
    "        if len(grid_new)==0:\n",
    "            break\n",
    "    prime=[get_prime(n) for n in list_]\n",
    "    prime=[i for i in prime if i !=-1]\n",
    "    return prime"
   ]
  },
  {
   "cell_type": "code",
   "execution_count": 82,
   "metadata": {},
   "outputs": [
    {
     "data": {
      "text/plain": [
       "[7, 7, 3, 2, 41, 67, 5, 13, 5, 5, 3, 11, 2]"
      ]
     },
     "execution_count": 82,
     "metadata": {},
     "output_type": "execute_result"
    }
   ],
   "source": [
    "return_spiral(grid)"
   ]
  },
  {
   "cell_type": "code",
   "execution_count": 166,
   "metadata": {},
   "outputs": [],
   "source": [
    "\n",
    "\n",
    "        "
   ]
  },
  {
   "cell_type": "code",
   "execution_count": 167,
   "metadata": {},
   "outputs": [],
   "source": [
    "str_like=\"-12*2.444+-9.6--23.89\""
   ]
  },
  {
   "cell_type": "code",
   "execution_count": 174,
   "metadata": {},
   "outputs": [],
   "source": [
    "def get_reverse(str_like):\n",
    "    def get_parts(str_like):\n",
    "        num=[i for i in \"0123456789.\"]\n",
    "        if str_like[0]==\"-\":\n",
    "            if str_like[1]==\"-\":\n",
    "                return \"-\",str_like[1:]\n",
    "            else:\n",
    "                for i in range(1,len(str_like)):\n",
    "                    if str_like[i] not in num:\n",
    "\n",
    "                        return str_like[:i],str_like[i:]\n",
    "                return str_like,[]\n",
    "\n",
    "        else:\n",
    "            if str_like[0] not in num:\n",
    "                return str_like[0],str_like[1:]\n",
    "            else:\n",
    "                for i in range(len(str_like)):\n",
    "                    if str_like[i] not in num:\n",
    "\n",
    "                        return str_like[:i],str_like[i:]\n",
    "                return str_like,[]\n",
    "\n",
    "    newone=\"\".join([i for i in str_like])\n",
    "    list_=[]\n",
    "    while(True):\n",
    "        a,newone=get_parts(newone)\n",
    "        list_.append(a)\n",
    "        if len(newone)==0:\n",
    "            break\n",
    "        \n",
    "    new=\"\".join(list_[::-1])\n",
    "    \n",
    "    \n",
    "    return new\n",
    "        \n",
    "    "
   ]
  },
  {
   "cell_type": "code",
   "execution_count": 175,
   "metadata": {},
   "outputs": [
    {
     "data": {
      "text/plain": [
       "'-23.89--9.6+2.444*-12'"
      ]
     },
     "execution_count": 175,
     "metadata": {},
     "output_type": "execute_result"
    }
   ],
   "source": [
    "get_reverse(str_like)"
   ]
  },
  {
   "cell_type": "code",
   "execution_count": 160,
   "metadata": {},
   "outputs": [
    {
     "data": {
      "text/plain": [
       "1"
      ]
     },
     "execution_count": 160,
     "metadata": {},
     "output_type": "execute_result"
    }
   ],
   "source": [
    "len(str_like[len(str_like)-1:])"
   ]
  },
  {
   "cell_type": "code",
   "execution_count": 165,
   "metadata": {},
   "outputs": [
    {
     "data": {
      "text/plain": [
       "'9'"
      ]
     },
     "execution_count": 165,
     "metadata": {},
     "output_type": "execute_result"
    }
   ],
   "source": [
    "str_like[len(str_like)-1:]"
   ]
  },
  {
   "cell_type": "code",
   "execution_count": 177,
   "metadata": {},
   "outputs": [
    {
     "data": {
      "text/plain": [
       "[1, 1, 1, 1, 1, 1, 1, 1, 1, 1]"
      ]
     },
     "execution_count": 177,
     "metadata": {},
     "output_type": "execute_result"
    }
   ],
   "source": [
    "new_list=[1]*10\n",
    "\n",
    "new_list"
   ]
  },
  {
   "cell_type": "code",
   "execution_count": 178,
   "metadata": {},
   "outputs": [
    {
     "name": "stdout",
     "output_type": "stream",
     "text": [
      "1 2\n",
      "3 4\n"
     ]
    }
   ],
   "source": [
    "a={1:2,3:4}\n",
    "for i,j in a.items():\n",
    "    print(i,j)"
   ]
  },
  {
   "cell_type": "code",
   "execution_count": 182,
   "metadata": {},
   "outputs": [],
   "source": [
    "\n",
    "def twoSum(nums,target: int):\n",
    "    dict_={}\n",
    "    for i in nums:\n",
    "        dict_[i]=target-i\n",
    "    for key,values in dict_.items():\n",
    "        if values in nums:\n",
    "            return [key,values]"
   ]
  },
  {
   "cell_type": "code",
   "execution_count": 183,
   "metadata": {},
   "outputs": [
    {
     "data": {
      "text/plain": [
       "[1, 6]"
      ]
     },
     "execution_count": 183,
     "metadata": {},
     "output_type": "execute_result"
    }
   ],
   "source": [
    "twoSum([1,2,3,4,5,6],7)"
   ]
  },
  {
   "cell_type": "code",
   "execution_count": 24,
   "metadata": {},
   "outputs": [],
   "source": [
    "z=\"ABBCZBAC\""
   ]
  },
  {
   "cell_type": "code",
   "execution_count": 191,
   "metadata": {},
   "outputs": [
    {
     "ename": "AttributeError",
     "evalue": "'str' object has no attribute 'findall'",
     "output_type": "error",
     "traceback": [
      "\u001b[1;31m---------------------------------------------------------------------------\u001b[0m",
      "\u001b[1;31mAttributeError\u001b[0m                            Traceback (most recent call last)",
      "\u001b[1;32m<ipython-input-191-80d963d118de>\u001b[0m in \u001b[0;36m<module>\u001b[1;34m\u001b[0m\n\u001b[1;32m----> 1\u001b[1;33m \u001b[0mz\u001b[0m\u001b[1;33m.\u001b[0m\u001b[0mfindall\u001b[0m\u001b[1;33m(\u001b[0m\u001b[1;34m\"A\"\u001b[0m\u001b[1;33m)\u001b[0m\u001b[1;33m\u001b[0m\u001b[1;33m\u001b[0m\u001b[0m\n\u001b[0m",
      "\u001b[1;31mAttributeError\u001b[0m: 'str' object has no attribute 'findall'"
     ]
    }
   ],
   "source": []
  },
  {
   "cell_type": "code",
   "execution_count": 192,
   "metadata": {},
   "outputs": [
    {
     "data": {
      "text/plain": [
       "[1, 1, 2, 5, 6, 7, 10]"
      ]
     },
     "execution_count": 192,
     "metadata": {},
     "output_type": "execute_result"
    }
   ],
   "source": [
    "sorted([1,2,5,6,7,10,1])"
   ]
  },
  {
   "cell_type": "code",
   "execution_count": 50,
   "metadata": {},
   "outputs": [],
   "source": [
    "def get(s):\n",
    "    A=[]\n",
    "    B=[]\n",
    "    C=[]\n",
    "    for i in range(len(s)):\n",
    "        if s[i]==\"A\":\n",
    "            A.append(i)\n",
    "        if s[i]==\"B\":\n",
    "            B.append(i)\n",
    "        if s[i]==\"C\":\n",
    "            C.append(i)\n",
    "    total=[sorted([i,j,k]) for i in A for j in B for k in C]\n",
    "    total=[[i[0],i[-1]] for i in total]\n",
    "    \n",
    "#     total=(set(total))\n",
    "#     return list(set([s[i[0]:i[2]+1] for i in total]))\n",
    "    return total\n",
    "    \n",
    "    "
   ]
  },
  {
   "cell_type": "code",
   "execution_count": 51,
   "metadata": {},
   "outputs": [
    {
     "data": {
      "text/plain": [
       "[[0, 3],\n",
       " [0, 7],\n",
       " [0, 3],\n",
       " [0, 7],\n",
       " [0, 5],\n",
       " [0, 7],\n",
       " [1, 6],\n",
       " [1, 7],\n",
       " [2, 6],\n",
       " [2, 7],\n",
       " [3, 6],\n",
       " [5, 7]]"
      ]
     },
     "execution_count": 51,
     "metadata": {},
     "output_type": "execute_result"
    }
   ],
   "source": [
    "get(z)"
   ]
  },
  {
   "cell_type": "code",
   "execution_count": 215,
   "metadata": {},
   "outputs": [
    {
     "data": {
      "text/plain": [
       "[[0, 1, 3],\n",
       " [0, 1, 6],\n",
       " [0, 2, 3],\n",
       " [0, 2, 6],\n",
       " [0, 3, 5],\n",
       " [0, 5, 6],\n",
       " [1, 3, 7],\n",
       " [1, 6, 7],\n",
       " [2, 3, 7],\n",
       " [2, 6, 7],\n",
       " [3, 5, 7],\n",
       " [5, 6, 7]]"
      ]
     },
     "execution_count": 215,
     "metadata": {},
     "output_type": "execute_result"
    }
   ],
   "source": [
    "get(z)"
   ]
  },
  {
   "cell_type": "code",
   "execution_count": null,
   "metadata": {},
   "outputs": [],
   "source": [
    "z=\"ABBCZBAC\""
   ]
  },
  {
   "cell_type": "code",
   "execution_count": 67,
   "metadata": {},
   "outputs": [
    {
     "data": {
      "text/plain": [
       "'BCZBA'"
      ]
     },
     "execution_count": 67,
     "metadata": {},
     "output_type": "execute_result"
    }
   ],
   "source": [
    "z[2:len(z)-1]"
   ]
  },
  {
   "cell_type": "code",
   "execution_count": 60,
   "metadata": {},
   "outputs": [],
   "source": [
    "def get(z):\n",
    "    result=[]\n",
    "    here=[i for i in z]\n",
    "    for i in range(0,len(z)):\n",
    "        for j in range(i+1,len(z)+1):\n",
    "            temp=\"\".join(here[i:j])\n",
    "#             print(i,j)\n",
    "            if \"A\" in temp and \"B\" in temp and \"C\" in temp:\n",
    "                result.append(temp)\n",
    "    return result\n",
    "                "
   ]
  },
  {
   "cell_type": "code",
   "execution_count": 61,
   "metadata": {},
   "outputs": [
    {
     "data": {
      "text/plain": [
       "['ABBC',\n",
       " 'ABBCZ',\n",
       " 'ABBCZB',\n",
       " 'ABBCZBA',\n",
       " 'ABBCZBAC',\n",
       " 'BBCZBA',\n",
       " 'BBCZBAC',\n",
       " 'BCZBA',\n",
       " 'BCZBAC',\n",
       " 'CZBA',\n",
       " 'CZBAC',\n",
       " 'ZBAC',\n",
       " 'BAC']"
      ]
     },
     "execution_count": 61,
     "metadata": {},
     "output_type": "execute_result"
    }
   ],
   "source": [
    "get(z)"
   ]
  },
  {
   "cell_type": "code",
   "execution_count": 18,
   "metadata": {},
   "outputs": [],
   "source": [
    "temp=z[2:]"
   ]
  },
  {
   "cell_type": "code",
   "execution_count": 19,
   "metadata": {},
   "outputs": [
    {
     "data": {
      "text/plain": [
       "True"
      ]
     },
     "execution_count": 19,
     "metadata": {},
     "output_type": "execute_result"
    }
   ],
   "source": [
    "\"A\" in temp and \"B\" in temp and \"C\" in temp "
   ]
  },
  {
   "cell_type": "code",
   "execution_count": null,
   "metadata": {},
   "outputs": [],
   "source": [
    "def get(s):\n",
    "    check=[\"A\",\"B\",\"C\"]\n",
    "    block_abc=[]\n",
    "    block_out=[]\n",
    "    indicate=0\n",
    "    temp=\"\"\n",
    "    for i in s:\n",
    "        temp=temp+i\n",
    "        if i in check:\n",
    "            \n",
    "            \n",
    "        "
   ]
  },
  {
   "cell_type": "markdown",
   "metadata": {},
   "source": [
    "slicing window\n",
    "1. get a table for [[1,2,3,4,,5,5,6,6,6,6 ],[1,2,2,2,2,3,4,5,7],[1,1,2,3,5,6,7]               ]\n",
    "2. 代表什么呢？ 代表的是，这三个元素，在某个string里边，这个位置上，之前以及自己，有多少个A或者B或者C。 然后据此\n",
    "3. 前面减去后边，可以得到一个window, 或者一个值，代表这一段路里边有多少个A,B,C。 \n",
    "4. 如果都大于0，那么是好的。\n"
   ]
  },
  {
   "cell_type": "markdown",
   "metadata": {},
   "source": [
    "unhashable var:\n",
    "1. list 不同哈希表索引，不能够用set( list (list))去寻找"
   ]
  },
  {
   "cell_type": "code",
   "execution_count": 48,
   "metadata": {},
   "outputs": [
    {
     "data": {
      "text/plain": [
       "{1, 2, 3, 4}"
      ]
     },
     "execution_count": 48,
     "metadata": {},
     "output_type": "execute_result"
    }
   ],
   "source": [
    "# set([[1,2],[1,2]])\n",
    "set([1,2,3,4,1,1,1])"
   ]
  },
  {
   "cell_type": "code",
   "execution_count": null,
   "metadata": {},
   "outputs": [],
   "source": []
  },
  {
   "cell_type": "code",
   "execution_count": 70,
   "metadata": {},
   "outputs": [
    {
     "data": {
      "text/plain": [
       "1"
      ]
     },
     "execution_count": 70,
     "metadata": {},
     "output_type": "execute_result"
    }
   ],
   "source": [
    "121%10"
   ]
  },
  {
   "cell_type": "code",
   "execution_count": 72,
   "metadata": {},
   "outputs": [
    {
     "data": {
      "text/plain": [
       "12"
      ]
     },
     "execution_count": 72,
     "metadata": {},
     "output_type": "execute_result"
    }
   ],
   "source": [
    "121//10"
   ]
  },
  {
   "cell_type": "code",
   "execution_count": null,
   "metadata": {},
   "outputs": [],
   "source": []
  }
 ],
 "metadata": {
  "kernelspec": {
   "display_name": "Python 3",
   "language": "python",
   "name": "python3"
  },
  "language_info": {
   "codemirror_mode": {
    "name": "ipython",
    "version": 3
   },
   "file_extension": ".py",
   "mimetype": "text/x-python",
   "name": "python",
   "nbconvert_exporter": "python",
   "pygments_lexer": "ipython3",
   "version": "3.7.3"
  },
  "toc": {
   "base_numbering": 1,
   "nav_menu": {},
   "number_sections": true,
   "sideBar": true,
   "skip_h1_title": false,
   "title_cell": "Table of Contents",
   "title_sidebar": "Contents",
   "toc_cell": false,
   "toc_position": {},
   "toc_section_display": true,
   "toc_window_display": false
  }
 },
 "nbformat": 4,
 "nbformat_minor": 2
}
